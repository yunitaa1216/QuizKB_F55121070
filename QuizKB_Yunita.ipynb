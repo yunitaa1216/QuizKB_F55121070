{
  "nbformat": 4,
  "nbformat_minor": 0,
  "metadata": {
    "colab": {
      "provenance": [],
      "authorship_tag": "ABX9TyNqFjhBM1wk5Wq4dP9BgspR",
      "include_colab_link": true
    },
    "kernelspec": {
      "name": "python3",
      "display_name": "Python 3"
    },
    "language_info": {
      "name": "python"
    }
  },
  "cells": [
    {
      "cell_type": "markdown",
      "metadata": {
        "id": "view-in-github",
        "colab_type": "text"
      },
      "source": [
        "<a href=\"https://colab.research.google.com/github/yunitaa1216/QuizKB_F55121070/blob/main/QuizKB_Yunita.ipynb\" target=\"_parent\"><img src=\"https://colab.research.google.com/assets/colab-badge.svg\" alt=\"Open In Colab\"/></a>"
      ]
    },
    {
      "cell_type": "code",
      "execution_count": 6,
      "metadata": {
        "colab": {
          "base_uri": "https://localhost:8080/",
          "height": 770
        },
        "id": "R8nwCpWlKjur",
        "outputId": "058d347d-c136-4151-eda4-e252275be1e5"
      },
      "outputs": [
        {
          "output_type": "stream",
          "name": "stdout",
          "text": [
            "              precision    recall  f1-score   support\n",
            "\n",
            "           0       1.00      1.00      1.00       207\n",
            "           1       1.00      1.00      1.00       214\n",
            "           2       1.00      1.00      1.00       189\n",
            "           3       1.00      1.00      1.00       194\n",
            "           4       1.00      1.00      1.00       205\n",
            "           5       1.00      1.00      1.00       183\n",
            "           6       1.00      1.00      1.00       201\n",
            "           7       1.00      1.00      1.00       203\n",
            "           8       1.00      1.00      1.00       200\n",
            "           9       1.00      1.00      1.00       204\n",
            "\n",
            "    accuracy                           1.00      2000\n",
            "   macro avg       1.00      1.00      1.00      2000\n",
            "weighted avg       1.00      1.00      1.00      2000\n",
            "\n"
          ]
        },
        {
          "output_type": "execute_result",
          "data": {
            "text/plain": [
              "Text(69.0, 0.5, 'Truth')"
            ]
          },
          "metadata": {},
          "execution_count": 6
        },
        {
          "output_type": "display_data",
          "data": {
            "text/plain": [
              "<Figure size 720x504 with 2 Axes>"
            ],
            "image/png": "[encoded data removed]"
          },
          "metadata": {
            "needs_background": "light"
          }
        }
      ],
      "source": [
        "import pandas as pd\n",
        "import matplotlib.pyplot as plt\n",
        "import seaborn as sn\n",
        "from sklearn import svm\n",
        "from sklearn.metrics import classification_report, confusion_matrix\n",
        "from sklearn.model_selection import train_test_split\n",
        " \n",
        "#impor CSV ke dataset\n",
        "df = pd.read_csv('datatrain.csv')\n",
        "df = pd.read_csv('datatest.csv')\n",
        " \n",
        "#deklarasi training dan testing data\n",
        "X = df[['0']]\n",
        "y = df['0']\n",
        " \n",
        "X_datatrain, X_datatest, y_datatrain, y_datatest = train_test_split(X, y, test_size = 0.2)\n",
        " \n",
        "#menggunakan SVM library untuk membuat SVM classifier\n",
        "classifier = svm.SVC(kernel = 'linear')\n",
        " \n",
        "#memasukkan training data kedalam classifier\n",
        "classifier.fit(X_datatrain, y_datatrain)\n",
        " \n",
        "#memasukkan testing data ke variabel y_predict\n",
        "y_predict = classifier.predict(X_datatest)\n",
        " \n",
        "#menampilkan classification report\n",
        "print(classification_report(y_datatest, y_predict))\n",
        " \n",
        "#mengimplementasikan testing data dan hasil prediksi dalam confusion matrix\n",
        "cm = confusion_matrix(y_datatest, y_predict)\n",
        " \n",
        "#membuat plotting confusion matrix\n",
        "%matplotlib inline\n",
        "plt.figure (figsize=(10,7))\n",
        "sn.heatmap(cm, annot=True)\n",
        "plt.xlabel('Predicted')\n",
        "plt.ylabel('Truth')"
      ]
    },
    {
      "cell_type": "code",
      "source": [
        "db=pd.read_csv(\"datatrain.csv\")\n",
        "db.head(10)"
      ],
      "metadata": {
        "id": "R2qheE_5TzJ9"
      },
      "execution_count": null,
      "outputs": []
    },
    {
      "cell_type": "code",
      "source": [
        "db=pd.read_csv(\"datatest.csv\")\n",
        "db.head(10)"
      ],
      "metadata": {
        "id": "JhrRTxZrUIcl"
      },
      "execution_count": null,
      "outputs": []
    },
    {
      "cell_type": "code",
      "source": [
        "import matplotlib.pyplot as plt\n",
        "\n",
        "from sklearn import datasets\n",
        "from sklearn import svm"
      ],
      "metadata": {
        "id": "Gs6vF4eQVi1Z"
      },
      "execution_count": 7,
      "outputs": []
    },
    {
      "cell_type": "code",
      "source": [
        "digits = datasets.load_digits()\n",
        "clf = svm.SVC(gamma=0.01, C=100)\n",
        "print (len(digits.data))\n",
        "(x,y) = digits.data[:-10], digits.target[:-10]\n",
        "clf.fit(x,y)\n",
        "plt.imshow(digits.images[7], cmap=plt.cm.gray_r, interpolation=\"nearest\")\n",
        "plt.show()"
      ],
      "metadata": {
        "colab": {
          "base_uri": "https://localhost:8080/",
          "height": 283
        },
        "id": "R6a3FFGpV10k",
        "outputId": "c0b88bb9-f2e9-4470-e9a2-e699373b109f"
      },
      "execution_count": 10,
      "outputs": [
        {
          "output_type": "stream",
          "name": "stdout",
          "text": [
            "1797\n"
          ]
        },
        {
          "output_type": "display_data",
          "data": {
            "text/plain": [
              "<Figure size 432x288 with 1 Axes>"
            ],
            "image/png": "[encoded data removed]"
          },
          "metadata": {
            "needs_background": "light"
          }
        }
      ]
    }
  ]
}